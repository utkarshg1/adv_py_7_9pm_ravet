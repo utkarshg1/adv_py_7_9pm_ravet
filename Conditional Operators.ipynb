{
 "cells": [
  {
   "cell_type": "markdown",
   "id": "a50e28e2-5308-4918-9073-eab2022df1e8",
   "metadata": {},
   "source": [
    "# Condtional Operators"
   ]
  },
  {
   "cell_type": "markdown",
   "id": "0358716b-ee42-45d5-9bf8-a07722cce962",
   "metadata": {},
   "source": [
    "### Arithmetic operators - Output will always be a number (int, float)\n",
    "1. Add +\n",
    "2. Sub -\n",
    "3. Division /\n",
    "4. Multiplication - *\n",
    "5. Mod - %\n",
    "6. Integer Division - //"
   ]
  },
  {
   "cell_type": "code",
   "execution_count": 4,
   "id": "672a4d9c-b9d7-4bc6-b835-abe4b3edbf93",
   "metadata": {},
   "outputs": [],
   "source": [
    "a = 4"
   ]
  },
  {
   "cell_type": "code",
   "execution_count": 8,
   "id": "97750a01-dd0e-4ac7-a60e-205a2da5ea00",
   "metadata": {},
   "outputs": [],
   "source": [
    "b = 3"
   ]
  },
  {
   "cell_type": "code",
   "execution_count": 10,
   "id": "61d64ac6-ab27-44cd-a5d8-deba05349ea6",
   "metadata": {},
   "outputs": [
    {
     "name": "stdout",
     "output_type": "stream",
     "text": [
      "7\n",
      "1\n",
      "12\n",
      "1.3333333333333333\n"
     ]
    }
   ],
   "source": [
    "print(a+b)\n",
    "print(a-b)\n",
    "print(a*b)\n",
    "print(a/b)"
   ]
  },
  {
   "cell_type": "code",
   "execution_count": 12,
   "id": "5b04246b-a4b0-4d13-9bcd-e618fd6c1627",
   "metadata": {},
   "outputs": [
    {
     "name": "stdout",
     "output_type": "stream",
     "text": [
      "64\n"
     ]
    }
   ],
   "source": [
    "print(a**3)"
   ]
  },
  {
   "cell_type": "code",
   "execution_count": 16,
   "id": "885efc48-594e-4ac4-9cba-42c8ff4d0834",
   "metadata": {
    "scrolled": true
   },
   "outputs": [
    {
     "name": "stdout",
     "output_type": "stream",
     "text": [
      "1.5874010519681994\n"
     ]
    }
   ],
   "source": [
    "print(a**(1/3))"
   ]
  },
  {
   "cell_type": "code",
   "execution_count": 18,
   "id": "3bafdfae-31d5-4040-b68c-6754f9b37113",
   "metadata": {},
   "outputs": [
    {
     "data": {
      "text/plain": [
       "2"
      ]
     },
     "execution_count": 18,
     "metadata": {},
     "output_type": "execute_result"
    }
   ],
   "source": [
    "23%7"
   ]
  },
  {
   "cell_type": "code",
   "execution_count": 20,
   "id": "40daa0da-b858-4a74-8b1a-e0799ce78078",
   "metadata": {},
   "outputs": [
    {
     "data": {
      "text/plain": [
       "1"
      ]
     },
     "execution_count": 20,
     "metadata": {},
     "output_type": "execute_result"
    }
   ],
   "source": [
    "10%3"
   ]
  },
  {
   "cell_type": "code",
   "execution_count": 22,
   "id": "a1415a9c-4ba0-4806-b8e6-5b298e3a072c",
   "metadata": {},
   "outputs": [
    {
     "data": {
      "text/plain": [
       "3.3333333333333335"
      ]
     },
     "execution_count": 22,
     "metadata": {},
     "output_type": "execute_result"
    }
   ],
   "source": [
    "10/3"
   ]
  },
  {
   "cell_type": "code",
   "execution_count": 24,
   "id": "41f13a83-d0ea-488b-ab61-3670db0f1416",
   "metadata": {},
   "outputs": [
    {
     "data": {
      "text/plain": [
       "3"
      ]
     },
     "execution_count": 24,
     "metadata": {},
     "output_type": "execute_result"
    }
   ],
   "source": [
    "# Integer division (quotient)\n",
    "10//3"
   ]
  },
  {
   "cell_type": "code",
   "execution_count": 26,
   "id": "a59d2a61-09c1-428d-91eb-36223adce31e",
   "metadata": {},
   "outputs": [
    {
     "data": {
      "text/plain": [
       "0"
      ]
     },
     "execution_count": 26,
     "metadata": {},
     "output_type": "execute_result"
    }
   ],
   "source": [
    "16%4"
   ]
  },
  {
   "cell_type": "code",
   "execution_count": 28,
   "id": "9ccd7f99-cc5a-4b4f-82d7-b26b4592f3f3",
   "metadata": {},
   "outputs": [
    {
     "data": {
      "text/plain": [
       "0"
      ]
     },
     "execution_count": 28,
     "metadata": {},
     "output_type": "execute_result"
    }
   ],
   "source": [
    "21%3"
   ]
  },
  {
   "cell_type": "code",
   "execution_count": 34,
   "id": "c8f3dd1b-48b3-4cbb-a8ee-26636eefc377",
   "metadata": {},
   "outputs": [
    {
     "name": "stdout",
     "output_type": "stream",
     "text": [
      "2\n",
      "7\n",
      "7.666666666666667\n"
     ]
    }
   ],
   "source": [
    "c = 23\n",
    "b = 3\n",
    "print(c%b)\n",
    "print(c//b)\n",
    "print(c/b)"
   ]
  },
  {
   "cell_type": "markdown",
   "id": "0f498d8b-7130-421d-9686-88bcd418dfe1",
   "metadata": {},
   "source": [
    "### Condtional operators"
   ]
  },
  {
   "attachments": {
    "a854f67f-4e82-41f6-a27a-d4a78729afd2.png": {
     "image/png": "[encoded data removed]"
    }
   },
   "cell_type": "markdown",
   "id": "34f40b4f-2803-4922-b536-9c34e5d98b6c",
   "metadata": {},
   "source": [
    "![image.png](attachment:a854f67f-4e82-41f6-a27a-d4a78729afd2.png)"
   ]
  },
  {
   "cell_type": "markdown",
   "id": "7959f262-54b2-432f-b5df-ac1723de1096",
   "metadata": {},
   "source": [
    "1. = is assignment operator (used to assign values0\n",
    "2. == is conditionl operator"
   ]
  },
  {
   "cell_type": "code",
   "execution_count": 38,
   "id": "24295edf-dd84-4bb9-b89c-b81805cfcdc2",
   "metadata": {},
   "outputs": [],
   "source": [
    "a = 34\n",
    "b = 22"
   ]
  },
  {
   "cell_type": "code",
   "execution_count": 40,
   "id": "19651ca5-7663-4cb4-adb7-4a20d3153901",
   "metadata": {},
   "outputs": [
    {
     "data": {
      "text/plain": [
       "34"
      ]
     },
     "execution_count": 40,
     "metadata": {},
     "output_type": "execute_result"
    }
   ],
   "source": [
    "a"
   ]
  },
  {
   "cell_type": "code",
   "execution_count": 42,
   "id": "b10c1a13-75cb-4a0f-b34b-ca963d8119ae",
   "metadata": {},
   "outputs": [
    {
     "data": {
      "text/plain": [
       "22"
      ]
     },
     "execution_count": 42,
     "metadata": {},
     "output_type": "execute_result"
    }
   ],
   "source": [
    "b"
   ]
  },
  {
   "cell_type": "code",
   "execution_count": 45,
   "id": "a3707c2b-1fc8-46c9-b67e-bf5bbd9bf58d",
   "metadata": {},
   "outputs": [
    {
     "data": {
      "text/plain": [
       "False"
      ]
     },
     "execution_count": 45,
     "metadata": {},
     "output_type": "execute_result"
    }
   ],
   "source": [
    "a == b"
   ]
  },
  {
   "cell_type": "code",
   "execution_count": 47,
   "id": "00a093ae-18ae-4388-a9f9-ca406c0c1de2",
   "metadata": {},
   "outputs": [
    {
     "data": {
      "text/plain": [
       "True"
      ]
     },
     "execution_count": 47,
     "metadata": {},
     "output_type": "execute_result"
    }
   ],
   "source": [
    "a == 34"
   ]
  },
  {
   "cell_type": "code",
   "execution_count": 49,
   "id": "f8072557-7231-4fea-860e-7995d001b57c",
   "metadata": {},
   "outputs": [
    {
     "data": {
      "text/plain": [
       "True"
      ]
     },
     "execution_count": 49,
     "metadata": {},
     "output_type": "execute_result"
    }
   ],
   "source": [
    "b == 22"
   ]
  },
  {
   "cell_type": "code",
   "execution_count": 51,
   "id": "17be20f6-b526-4ea3-b5fa-0046f8a93e35",
   "metadata": {},
   "outputs": [
    {
     "data": {
      "text/plain": [
       "True"
      ]
     },
     "execution_count": 51,
     "metadata": {},
     "output_type": "execute_result"
    }
   ],
   "source": [
    "a != b"
   ]
  },
  {
   "cell_type": "code",
   "execution_count": 53,
   "id": "c3a98c71-9bcd-4241-91a0-21814be9bc44",
   "metadata": {},
   "outputs": [
    {
     "data": {
      "text/plain": [
       "34"
      ]
     },
     "execution_count": 53,
     "metadata": {},
     "output_type": "execute_result"
    }
   ],
   "source": [
    "a"
   ]
  },
  {
   "cell_type": "code",
   "execution_count": 55,
   "id": "45d12c3e-144d-4243-a15c-d8ea7b383b7d",
   "metadata": {},
   "outputs": [
    {
     "data": {
      "text/plain": [
       "False"
      ]
     },
     "execution_count": 55,
     "metadata": {},
     "output_type": "execute_result"
    }
   ],
   "source": [
    "a != 34"
   ]
  },
  {
   "cell_type": "code",
   "execution_count": 57,
   "id": "a548473c-9f5d-48aa-bbac-5e4da4a9f95b",
   "metadata": {},
   "outputs": [
    {
     "data": {
      "text/plain": [
       "True"
      ]
     },
     "execution_count": 57,
     "metadata": {},
     "output_type": "execute_result"
    }
   ],
   "source": [
    "a > b"
   ]
  },
  {
   "cell_type": "code",
   "execution_count": 59,
   "id": "ed3e444c-8016-4194-85a7-18df1f5420b5",
   "metadata": {},
   "outputs": [
    {
     "data": {
      "text/plain": [
       "False"
      ]
     },
     "execution_count": 59,
     "metadata": {},
     "output_type": "execute_result"
    }
   ],
   "source": [
    "a < b"
   ]
  },
  {
   "cell_type": "code",
   "execution_count": 61,
   "id": "c0541274-52f5-4d60-8fdc-d509ac3c82a6",
   "metadata": {},
   "outputs": [
    {
     "data": {
      "text/plain": [
       "True"
      ]
     },
     "execution_count": 61,
     "metadata": {},
     "output_type": "execute_result"
    }
   ],
   "source": [
    "a >= b"
   ]
  },
  {
   "cell_type": "code",
   "execution_count": 63,
   "id": "5266d5b1-0feb-4e79-9f2c-eeebe53f2187",
   "metadata": {},
   "outputs": [
    {
     "data": {
      "text/plain": [
       "34"
      ]
     },
     "execution_count": 63,
     "metadata": {},
     "output_type": "execute_result"
    }
   ],
   "source": [
    "a"
   ]
  },
  {
   "cell_type": "code",
   "execution_count": 65,
   "id": "8bf31f69-1446-435e-b2e0-463a7bea54bd",
   "metadata": {},
   "outputs": [
    {
     "data": {
      "text/plain": [
       "True"
      ]
     },
     "execution_count": 65,
     "metadata": {},
     "output_type": "execute_result"
    }
   ],
   "source": [
    "a >= 34"
   ]
  },
  {
   "cell_type": "code",
   "execution_count": 67,
   "id": "9e57c163-4411-4458-bd87-6f3cb6327e62",
   "metadata": {},
   "outputs": [
    {
     "data": {
      "text/plain": [
       "True"
      ]
     },
     "execution_count": 67,
     "metadata": {},
     "output_type": "execute_result"
    }
   ],
   "source": [
    "a >= 33"
   ]
  },
  {
   "cell_type": "code",
   "execution_count": 69,
   "id": "c77dbfc2-f5d7-4969-84b8-361991c58997",
   "metadata": {},
   "outputs": [
    {
     "data": {
      "text/plain": [
       "False"
      ]
     },
     "execution_count": 69,
     "metadata": {},
     "output_type": "execute_result"
    }
   ],
   "source": [
    "a >= 35"
   ]
  },
  {
   "cell_type": "code",
   "execution_count": 71,
   "id": "abd4b4bf-a90b-4d57-8081-58b822bd0dd3",
   "metadata": {},
   "outputs": [
    {
     "data": {
      "text/plain": [
       "34"
      ]
     },
     "execution_count": 71,
     "metadata": {},
     "output_type": "execute_result"
    }
   ],
   "source": [
    "a"
   ]
  },
  {
   "cell_type": "code",
   "execution_count": 73,
   "id": "8ad0a3cd-f876-47a2-88e0-44dd5321a157",
   "metadata": {},
   "outputs": [
    {
     "data": {
      "text/plain": [
       "22"
      ]
     },
     "execution_count": 73,
     "metadata": {},
     "output_type": "execute_result"
    }
   ],
   "source": [
    "b"
   ]
  },
  {
   "cell_type": "code",
   "execution_count": 75,
   "id": "af24f48a-3813-48a3-86f3-c916d899f9b8",
   "metadata": {},
   "outputs": [
    {
     "data": {
      "text/plain": [
       "False"
      ]
     },
     "execution_count": 75,
     "metadata": {},
     "output_type": "execute_result"
    }
   ],
   "source": [
    "a <= b"
   ]
  },
  {
   "cell_type": "code",
   "execution_count": 77,
   "id": "92a500b5-9d96-41d2-82f2-278187cf8cc4",
   "metadata": {},
   "outputs": [],
   "source": [
    "c = \"ETLHive\""
   ]
  },
  {
   "cell_type": "code",
   "execution_count": 79,
   "id": "4dc0160c-61f6-488f-a0f0-9882580eea00",
   "metadata": {},
   "outputs": [
    {
     "data": {
      "text/plain": [
       "False"
      ]
     },
     "execution_count": 79,
     "metadata": {},
     "output_type": "execute_result"
    }
   ],
   "source": [
    "c == \"etlhive\""
   ]
  },
  {
   "cell_type": "code",
   "execution_count": 81,
   "id": "e2ea120d-200e-4c33-a02b-fa02f5ef5d3f",
   "metadata": {},
   "outputs": [
    {
     "data": {
      "text/plain": [
       "True"
      ]
     },
     "execution_count": 81,
     "metadata": {},
     "output_type": "execute_result"
    }
   ],
   "source": [
    "c == \"ETLHive\""
   ]
  },
  {
   "cell_type": "code",
   "execution_count": 83,
   "id": "83507585-85cc-43e0-9165-bbf012b2222a",
   "metadata": {},
   "outputs": [
    {
     "data": {
      "text/plain": [
       "True"
      ]
     },
     "execution_count": 83,
     "metadata": {},
     "output_type": "execute_result"
    }
   ],
   "source": [
    "c != \"Example\""
   ]
  },
  {
   "cell_type": "markdown",
   "id": "8b899cc2-4038-4344-b876-1631d2af6205",
   "metadata": {},
   "source": [
    "## in operator is used to check wheter given element is present inside any collection (tuple, list, string)"
   ]
  },
  {
   "cell_type": "code",
   "execution_count": 94,
   "id": "bdb0e21f-a331-4689-a7f8-9adc1dbcba03",
   "metadata": {},
   "outputs": [],
   "source": [
    "d = [1, 2, 3, 4, 5, 6, \"example\", 4.5]"
   ]
  },
  {
   "cell_type": "code",
   "execution_count": 88,
   "id": "7f7c14f1-f49b-4e4d-9300-5f8d9eee0ee9",
   "metadata": {},
   "outputs": [
    {
     "data": {
      "text/plain": [
       "True"
      ]
     },
     "execution_count": 88,
     "metadata": {},
     "output_type": "execute_result"
    }
   ],
   "source": [
    "4 in d"
   ]
  },
  {
   "cell_type": "code",
   "execution_count": 90,
   "id": "79cdb3ac-e93a-446f-96e8-c0514346828d",
   "metadata": {},
   "outputs": [
    {
     "data": {
      "text/plain": [
       "False"
      ]
     },
     "execution_count": 90,
     "metadata": {},
     "output_type": "execute_result"
    }
   ],
   "source": [
    "100 in d"
   ]
  },
  {
   "cell_type": "code",
   "execution_count": 96,
   "id": "c29060de-84b1-4cc7-b5ff-40471f044ddb",
   "metadata": {},
   "outputs": [
    {
     "data": {
      "text/plain": [
       "True"
      ]
     },
     "execution_count": 96,
     "metadata": {},
     "output_type": "execute_result"
    }
   ],
   "source": [
    "\"example\" in d"
   ]
  },
  {
   "cell_type": "code",
   "execution_count": 98,
   "id": "3b9e7545-b380-4159-9c12-65845b6e92b1",
   "metadata": {},
   "outputs": [
    {
     "data": {
      "text/plain": [
       "False"
      ]
     },
     "execution_count": 98,
     "metadata": {},
     "output_type": "execute_result"
    }
   ],
   "source": [
    "\"random\" in d"
   ]
  },
  {
   "cell_type": "code",
   "execution_count": 100,
   "id": "0032a9f2-f887-43b2-a315-b8910766462f",
   "metadata": {},
   "outputs": [],
   "source": [
    "n = \"ETLHive\""
   ]
  },
  {
   "cell_type": "code",
   "execution_count": 102,
   "id": "98d03d31-9387-424b-a53f-92a28ca9c60a",
   "metadata": {},
   "outputs": [
    {
     "data": {
      "text/plain": [
       "True"
      ]
     },
     "execution_count": 102,
     "metadata": {},
     "output_type": "execute_result"
    }
   ],
   "source": [
    "\"H\" in n"
   ]
  },
  {
   "cell_type": "code",
   "execution_count": 104,
   "id": "22a779c0-a515-4687-b66d-47028f8262bb",
   "metadata": {},
   "outputs": [
    {
     "data": {
      "text/plain": [
       "True"
      ]
     },
     "execution_count": 104,
     "metadata": {},
     "output_type": "execute_result"
    }
   ],
   "source": [
    "\"ETL\" in n"
   ]
  },
  {
   "cell_type": "code",
   "execution_count": 106,
   "id": "accb2169-15c4-4f5c-a6c5-dc8b499e0f71",
   "metadata": {},
   "outputs": [
    {
     "data": {
      "text/plain": [
       "False"
      ]
     },
     "execution_count": 106,
     "metadata": {},
     "output_type": "execute_result"
    }
   ],
   "source": [
    "\"r\" in n"
   ]
  },
  {
   "cell_type": "markdown",
   "id": "a7b3364e-b693-40dc-a92b-e486c2988078",
   "metadata": {},
   "source": [
    "### Typecasting\n",
    "Converting variable to different types"
   ]
  },
  {
   "cell_type": "code",
   "execution_count": 109,
   "id": "d50de0a9-e1ec-4cfa-a639-1a8dc6de2f51",
   "metadata": {},
   "outputs": [
    {
     "data": {
      "text/plain": [
       "str"
      ]
     },
     "execution_count": 109,
     "metadata": {},
     "output_type": "execute_result"
    }
   ],
   "source": [
    "a = \"23\"\n",
    "type(a)"
   ]
  },
  {
   "cell_type": "code",
   "execution_count": 115,
   "id": "5958f1e0-e3c4-46b9-8946-f6d24dd3b0d8",
   "metadata": {},
   "outputs": [
    {
     "data": {
      "text/plain": [
       "'23'"
      ]
     },
     "execution_count": 115,
     "metadata": {},
     "output_type": "execute_result"
    }
   ],
   "source": [
    "a"
   ]
  },
  {
   "cell_type": "code",
   "execution_count": 113,
   "id": "56018858-6acd-416e-8d17-6fcacac698f6",
   "metadata": {},
   "outputs": [
    {
     "data": {
      "text/plain": [
       "23"
      ]
     },
     "execution_count": 113,
     "metadata": {},
     "output_type": "execute_result"
    }
   ],
   "source": [
    "b = int(a)\n",
    "b"
   ]
  },
  {
   "cell_type": "code",
   "execution_count": 117,
   "id": "c5937ceb-2664-4c47-b63b-c0c962c63974",
   "metadata": {},
   "outputs": [
    {
     "data": {
      "text/plain": [
       "int"
      ]
     },
     "execution_count": 117,
     "metadata": {},
     "output_type": "execute_result"
    }
   ],
   "source": [
    "type(b)"
   ]
  },
  {
   "cell_type": "code",
   "execution_count": 119,
   "id": "c5eebb12-a7fa-47d4-8e41-2fb80f154978",
   "metadata": {},
   "outputs": [
    {
     "ename": "ValueError",
     "evalue": "invalid literal for int() with base 10: 'Two'",
     "output_type": "error",
     "traceback": [
      "\u001b[1;31m---------------------------------------------------------------------------\u001b[0m",
      "\u001b[1;31mValueError\u001b[0m                                Traceback (most recent call last)",
      "Cell \u001b[1;32mIn[119], line 1\u001b[0m\n\u001b[1;32m----> 1\u001b[0m \u001b[38;5;28mint\u001b[39m(\u001b[38;5;124m\"\u001b[39m\u001b[38;5;124mTwo\u001b[39m\u001b[38;5;124m\"\u001b[39m)\n",
      "\u001b[1;31mValueError\u001b[0m: invalid literal for int() with base 10: 'Two'"
     ]
    }
   ],
   "source": [
    "int(\"Two\")"
   ]
  },
  {
   "cell_type": "code",
   "execution_count": 121,
   "id": "008c3130-c764-49e4-bc9c-9015990236f2",
   "metadata": {},
   "outputs": [
    {
     "data": {
      "text/plain": [
       "str"
      ]
     },
     "execution_count": 121,
     "metadata": {},
     "output_type": "execute_result"
    }
   ],
   "source": [
    "c = \"23.5\"\n",
    "type(c)"
   ]
  },
  {
   "cell_type": "code",
   "execution_count": 123,
   "id": "d7c0545b-f39d-4c52-887c-d514b622cf75",
   "metadata": {},
   "outputs": [
    {
     "data": {
      "text/plain": [
       "float"
      ]
     },
     "execution_count": 123,
     "metadata": {},
     "output_type": "execute_result"
    }
   ],
   "source": [
    "d = float(c)\n",
    "type(d)"
   ]
  },
  {
   "cell_type": "code",
   "execution_count": 129,
   "id": "464ce10e-d833-4095-a874-84f5919337d2",
   "metadata": {},
   "outputs": [
    {
     "data": {
      "text/plain": [
       "'23'"
      ]
     },
     "execution_count": 129,
     "metadata": {},
     "output_type": "execute_result"
    }
   ],
   "source": [
    "e = str(23)\n",
    "e"
   ]
  },
  {
   "cell_type": "code",
   "execution_count": 131,
   "id": "21c350fb-ca03-431b-a336-4382bc1e6908",
   "metadata": {},
   "outputs": [
    {
     "data": {
      "text/plain": [
       "str"
      ]
     },
     "execution_count": 131,
     "metadata": {},
     "output_type": "execute_result"
    }
   ],
   "source": [
    "type(e)"
   ]
  },
  {
   "cell_type": "markdown",
   "id": "ec741e5c-fa3c-4ccf-b23d-99acba13871b",
   "metadata": {},
   "source": [
    "### Taking input from user"
   ]
  },
  {
   "cell_type": "code",
   "execution_count": 134,
   "id": "470ce7a1-6bb5-473c-a72a-8170a195be58",
   "metadata": {},
   "outputs": [
    {
     "name": "stdin",
     "output_type": "stream",
     "text": [
      "Please enter age in years : 34\n"
     ]
    },
    {
     "name": "stdout",
     "output_type": "stream",
     "text": [
      "Age entered : 34, Datatype : <class 'str'>\n"
     ]
    }
   ],
   "source": [
    "age = input(\"Please enter age in years :\")\n",
    "print(f\"Age entered : {age}, Datatype : {type(age)}\")"
   ]
  },
  {
   "cell_type": "code",
   "execution_count": 136,
   "id": "71b0475d-36d4-48f1-9d47-51f4a9786a58",
   "metadata": {},
   "outputs": [
    {
     "data": {
      "text/plain": [
       "'34'"
      ]
     },
     "execution_count": 136,
     "metadata": {},
     "output_type": "execute_result"
    }
   ],
   "source": [
    "age"
   ]
  },
  {
   "cell_type": "code",
   "execution_count": 138,
   "id": "3f92d773-983f-4fdb-a76c-a76ac652cb00",
   "metadata": {},
   "outputs": [
    {
     "name": "stdin",
     "output_type": "stream",
     "text": [
      "Please enter your age :  28\n"
     ]
    },
    {
     "name": "stdout",
     "output_type": "stream",
     "text": [
      "Age entered : 28, Datatype : <class 'int'>\n"
     ]
    }
   ],
   "source": [
    "age = int(input(\"Please enter your age : \"))\n",
    "print(f\"Age entered : {age}, Datatype : {type(age)}\")"
   ]
  },
  {
   "cell_type": "markdown",
   "id": "9e1ce738-bf44-4439-953e-63345037bbc8",
   "metadata": {},
   "source": [
    "## Check wether user is eligible to vote\n",
    "Age is greater than or equal to 18"
   ]
  },
  {
   "attachments": {
    "f98b749a-22ed-4ee7-ba60-8d8170f8e84d.png": {
     "image/png": "[encoded data removed]"
    }
   },
   "cell_type": "markdown",
   "id": "bed55cd0-5c90-47ca-8a8d-035b5b94744d",
   "metadata": {},
   "source": [
    "![image.png](attachment:f98b749a-22ed-4ee7-ba60-8d8170f8e84d.png)"
   ]
  },
  {
   "cell_type": "code",
   "execution_count": 158,
   "id": "5a3e356b-688f-4940-87d7-6808d557b28c",
   "metadata": {},
   "outputs": [
    {
     "name": "stdin",
     "output_type": "stream",
     "text": [
      "Please enter age in years :  23\n"
     ]
    },
    {
     "name": "stdout",
     "output_type": "stream",
     "text": [
      "At age 23 years, you are ELIGIBLE to vote\n",
      "\n",
      "============================================\n",
      "\n",
      "Execution complete\n"
     ]
    }
   ],
   "source": [
    "# Take age as input from user\n",
    "age = int(input(\"Please enter age in years : \"))\n",
    "\n",
    "# Write if else loop\n",
    "if age >= 18:\n",
    "    print(f\"At age {age} years, you are ELIGIBLE to vote\")\n",
    "    print(\"\\n============================================\\n\")\n",
    "else:\n",
    "    print(f\"At age {age} years, you are NOT eligble to vote\")\n",
    "    print(\"\\n*********************************************\\n\")\n",
    "    \n",
    "# This is not inside indentation hence it is not inside my else block\n",
    "print(\"Execution complete\")"
   ]
  },
  {
   "cell_type": "markdown",
   "id": "1f02b5e1-9a67-4542-b2ce-0d72f887bea1",
   "metadata": {},
   "source": [
    "### Code execution - Shift + Enter\n",
    "### Input - Enter"
   ]
  },
  {
   "cell_type": "markdown",
   "id": "c2d2f2d0-c508-4304-a683-507aa701dd2a",
   "metadata": {},
   "source": [
    "### Check wheter a given number is divisible by 3"
   ]
  },
  {
   "cell_type": "code",
   "execution_count": 166,
   "id": "bbfe0553-6d29-4b46-a509-2b91481e651c",
   "metadata": {},
   "outputs": [
    {
     "name": "stdin",
     "output_type": "stream",
     "text": [
      "Please enter positive number :  12\n"
     ]
    },
    {
     "name": "stdout",
     "output_type": "stream",
     "text": [
      "Number 12 is DIVISIBLE by 3\n"
     ]
    }
   ],
   "source": [
    "# Take n as input from user\n",
    "n = int(input(\"Please enter positive number : \"))\n",
    "\n",
    "# Apply n%3 == 0\n",
    "if n%3 == 0:\n",
    "    print(f\"Number {n} is DIVISIBLE by 3\")\n",
    "else:\n",
    "    print(f\"Number {n} is NOT divisible by 3\")"
   ]
  },
  {
   "cell_type": "code",
   "execution_count": 164,
   "id": "8f87dbd9-963f-42cd-bd78-1d44923bacb1",
   "metadata": {},
   "outputs": [
    {
     "data": {
      "text/plain": [
       "2"
      ]
     },
     "execution_count": 164,
     "metadata": {},
     "output_type": "execute_result"
    }
   ],
   "source": [
    "14%3"
   ]
  },
  {
   "cell_type": "code",
   "execution_count": 168,
   "id": "645b59a4-7b2f-4228-9205-a54f08b9951d",
   "metadata": {},
   "outputs": [
    {
     "data": {
      "text/plain": [
       "0"
      ]
     },
     "execution_count": 168,
     "metadata": {},
     "output_type": "execute_result"
    }
   ],
   "source": [
    "12%3"
   ]
  },
  {
   "cell_type": "markdown",
   "id": "19b65f7b-f7b9-48b3-a4de-f42af57b0e89",
   "metadata": {},
   "source": [
    "## Withdrawl of funds from ATM\n",
    "1. Current Balance - 5000\n",
    "2. You can withdraw amount only below 5000"
   ]
  },
  {
   "cell_type": "code",
   "execution_count": 183,
   "id": "87c74921-8559-480b-a5ad-c2b950cc5890",
   "metadata": {},
   "outputs": [
    {
     "name": "stdin",
     "output_type": "stream",
     "text": [
      "Please enter amount to withdraw :  4000\n"
     ]
    },
    {
     "name": "stdout",
     "output_type": "stream",
     "text": [
      "Updated Balance : 1000 INR\n"
     ]
    }
   ],
   "source": [
    "###### Set the current balance\n",
    "current_bal = 5000\n",
    "\n",
    "# Take Withdrawal amount as input from user\n",
    "amt = int(input(\"Please enter amount to withdraw : \"))\n",
    "\n",
    "# Apply if else statement and update balance\n",
    "if amt <= current_bal:\n",
    "    updated_bal = current_bal - amt\n",
    "    print(f\"Updated Balance : {updated_bal} INR\")\n",
    "else:\n",
    "    print(f\"Insufficient Balance , Current balance is {current_bal} INR\")"
   ]
  },
  {
   "cell_type": "markdown",
   "id": "82c05a7d-1220-4276-b697-8d3e811754ae",
   "metadata": {},
   "source": [
    "### Check whether given number is divisible by BOTH 3 and 7"
   ]
  },
  {
   "cell_type": "code",
   "execution_count": 193,
   "id": "6296b4bc-b157-45af-b09b-d5ada0315238",
   "metadata": {},
   "outputs": [
    {
     "name": "stdin",
     "output_type": "stream",
     "text": [
      "Please enter a number :  21\n"
     ]
    },
    {
     "name": "stdout",
     "output_type": "stream",
     "text": [
      "The given number is divisble by BOTH 3 and 7\n"
     ]
    }
   ],
   "source": [
    "n = int(input(\"Please enter a number : \"))\n",
    "\n",
    "if n%3 == 0 and n%7 == 0:\n",
    "    print(\"The given number is divisble by BOTH 3 and 7\")\n",
    "else:\n",
    "    print(\"The given number is NOT divisible by either 3 or 7 or both\")"
   ]
  },
  {
   "cell_type": "markdown",
   "id": "a838f99f-0bf8-4caf-9c38-bc68b77d2548",
   "metadata": {},
   "source": [
    "### Check wheter a number is divisible by Either 3 OR 7 or both"
   ]
  },
  {
   "cell_type": "code",
   "execution_count": 204,
   "id": "c18cf678-b1f2-4631-944d-8d2e361b7211",
   "metadata": {},
   "outputs": [
    {
     "name": "stdin",
     "output_type": "stream",
     "text": [
      "Please enter a positive number : 11\n"
     ]
    },
    {
     "name": "stdout",
     "output_type": "stream",
     "text": [
      "Given number is NOT divisble by BOTH 7 and 3\n"
     ]
    }
   ],
   "source": [
    "n = int(input(\"Please enter a positive number :\"))\n",
    "\n",
    "if n%3 == 0 or n%7 == 0:\n",
    "    print(\"Given number is DIVISIBLE by EITHER 3 or 7 or both\")\n",
    "else:\n",
    "    print(\"Given number is NOT divisble by BOTH 7 and 3\")"
   ]
  },
  {
   "cell_type": "markdown",
   "id": "bee22e98-b827-49d4-b542-4465086c8bb2",
   "metadata": {},
   "source": [
    "### Check in detail wheter a number is divisible by 3 , 7"
   ]
  },
  {
   "attachments": {
    "acc5ab4b-0c62-41a2-84f7-f3fc0e84c1c2.png": {
     "image/png": "[encoded data removed]"
    }
   },
   "cell_type": "markdown",
   "id": "29f251bb-50b4-4b37-857b-cec9264f472e",
   "metadata": {},
   "source": [
    "![image.png](attachment:acc5ab4b-0c62-41a2-84f7-f3fc0e84c1c2.png)"
   ]
  },
  {
   "cell_type": "code",
   "execution_count": 215,
   "id": "12384f61-2503-45ce-a1d2-0d02b7311caf",
   "metadata": {},
   "outputs": [
    {
     "name": "stdin",
     "output_type": "stream",
     "text": [
      "Please enter a number :  63\n"
     ]
    },
    {
     "name": "stdout",
     "output_type": "stream",
     "text": [
      "Given number is DIVISIBLE by BOTH 3 and 7\n"
     ]
    }
   ],
   "source": [
    "n = int(input(\"Please enter a number : \"))\n",
    "\n",
    "if n%3 == 0 and n%7 == 0:\n",
    "    print(\"Given number is DIVISIBLE by BOTH 3 and 7\")\n",
    "elif n%3 == 0:\n",
    "    print(\"Given number is DIVISIBLE ONLY by 3\")\n",
    "elif n%7 == 0:\n",
    "    print(\"Given number is DIVISIBLE ONLY by 7\")\n",
    "else:\n",
    "    print(\"Given number is NOT divisible by both 3 and 7\")"
   ]
  },
  {
   "cell_type": "markdown",
   "id": "80b11f69-e9b1-4ff6-b982-0c7d0b245691",
   "metadata": {},
   "source": [
    "### Assignments\n",
    "1. Check wheter a given year is a Leap Year (366 days). Take year as input from user\n",
    "2. Based on Given annual income in INR, Estimate Income Tax according to latest Tax Regime"
   ]
  }
 ],
 "metadata": {
  "kernelspec": {
   "display_name": "Python 3 (ipykernel)",
   "language": "python",
   "name": "python3"
  },
  "language_info": {
   "codemirror_mode": {
    "name": "ipython",
    "version": 3
   },
   "file_extension": ".py",
   "mimetype": "text/x-python",
   "name": "python",
   "nbconvert_exporter": "python",
   "pygments_lexer": "ipython3",
   "version": "3.12.4"
  }
 },
 "nbformat": 4,
 "nbformat_minor": 5
}
